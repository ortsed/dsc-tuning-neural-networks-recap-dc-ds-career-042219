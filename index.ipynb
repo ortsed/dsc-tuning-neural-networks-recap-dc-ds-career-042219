{
 "cells": [
  {
   "cell_type": "markdown",
   "metadata": {},
   "source": [
    "# Tuning Neural Networks - Recap"
   ]
  },
  {
   "cell_type": "markdown",
   "metadata": {},
   "source": [
    "## Introduction\n",
    "\n",
    "In this section, you built upon your previous understanding of Keras and neural networks in order to further tune these models to optimize performance. You saw how optimization can go wrong with exploding gradients if normalization is not properly applied and how to prune overfit models using regularization."
   ]
  },
  {
   "cell_type": "markdown",
   "metadata": {},
   "source": [
    "## Objectives\n",
    "You will be able to:\n",
    "* Understand and explain what was covered in this section\n",
    "* Understand and explain why this section will help you become a data scientist"
   ]
  },
  {
   "cell_type": "markdown",
   "metadata": {},
   "source": [
    "As a brief review, here are some key takeaways to remember going forward:\n",
    "\n",
    "* In deep learning a training, validation and test set are used when iteratively building the right deep networks\n",
    "* Like traditional machine learning models, we need to watch out for the bias variance trade-off when building deep learning models\n",
    "* Several regularization techniques can help us limit overfitting: L1 Regularization, L2 Regularization, Dropout Regularization,...\n",
    "* Deep network training can be sped up by using normalized inputs\n",
    "* Normalized inputs can also help mitigate a common issue of vanishing or exploding gradients\n",
    "* You learned about gradient descent, but in deep learning some other optimization algorithms are introduced that work faster than gradient descent\n",
    "* Examples of alternatives for gradient descent are: RMSprop, Adam, Gradient Descent with Momentum\n",
    "* Hyperparameter tuning is of crucial important when working with deep learning models, as setting the parameters right can lead to great model improvements"
   ]
  },
  {
   "cell_type": "markdown",
   "metadata": {},
   "source": [
    "## Summary\n",
    "\n",
    "Well done! You've now learned a lot about traditional, fully connected neural networks. From here, you'll begin to investigate alternative architectures that are useful for specific domains such as image recognition."
   ]
  }
 ],
 "metadata": {
  "kernelspec": {
   "display_name": "Python 3",
   "language": "python",
   "name": "python3"
  },
  "language_info": {
   "codemirror_mode": {
    "name": "ipython",
    "version": 3
   },
   "file_extension": ".py",
   "mimetype": "text/x-python",
   "name": "python",
   "nbconvert_exporter": "python",
   "pygments_lexer": "ipython3",
   "version": "3.6.6"
  }
 },
 "nbformat": 4,
 "nbformat_minor": 2
}
